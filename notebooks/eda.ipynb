{
 "metadata": {
  "language_info": {
   "codemirror_mode": {
    "name": "ipython",
    "version": 3
   },
   "file_extension": ".py",
   "mimetype": "text/x-python",
   "name": "python",
   "nbconvert_exporter": "python",
   "pygments_lexer": "ipython3",
   "version": "3.8.10"
  },
  "orig_nbformat": 2,
  "kernelspec": {
   "name": "python3810jvsc74a57bd00d93b58c3d86e9bdb60432bfe9c4cfe4b03d17b4dc68afa7c7a9d5b0c54b589e",
   "display_name": "Python 3.8.10 64-bit ('manhattan': conda)"
  },
  "metadata": {
   "interpreter": {
    "hash": "0d93b58c3d86e9bdb60432bfe9c4cfe4b03d17b4dc68afa7c7a9d5b0c54b589e"
   }
  }
 },
 "nbformat": 4,
 "nbformat_minor": 2,
 "cells": [
  {
   "source": [
    "# Imports"
   ],
   "cell_type": "markdown",
   "metadata": {}
  },
  {
   "cell_type": "code",
   "execution_count": 1,
   "metadata": {},
   "outputs": [],
   "source": [
    "import pandas as pd\n",
    "import wandb"
   ]
  },
  {
   "cell_type": "code",
   "execution_count": 2,
   "metadata": {},
   "outputs": [
    {
     "output_type": "stream",
     "name": "stderr",
     "text": [
      "\u001B[34m\u001B[1mwandb\u001B[0m: Currently logged in as: \u001B[33mtheyorubayesian\u001B[0m (use `wandb login --relogin` to force relogin)\n",
      "\u001B[34m\u001B[1mwandb\u001B[0m: wandb version 0.10.31 is available!  To upgrade, please run:\n",
      "\u001B[34m\u001B[1mwandb\u001B[0m:  $ pip install wandb --upgrade\n"
     ]
    },
    {
     "output_type": "display_data",
     "data": {
      "text/plain": "<IPython.core.display.HTML object>",
      "text/html": "\n                Tracking run with wandb version 0.10.30<br/>\n                Syncing run <strong style=\"color:#cdcd00\">denim-glade-9</strong> to <a href=\"https://wandb.ai\" target=\"_blank\">Weights & Biases</a> <a href=\"https://docs.wandb.com/integrations/jupyter.html\" target=\"_blank\">(Documentation)</a>.<br/>\n                Project page: <a href=\"https://wandb.ai/theyorubayesian/nyc_airbnb\" target=\"_blank\">https://wandb.ai/theyorubayesian/nyc_airbnb</a><br/>\n                Run page: <a href=\"https://wandb.ai/theyorubayesian/nyc_airbnb/runs/6muy7bxa\" target=\"_blank\">https://wandb.ai/theyorubayesian/nyc_airbnb/runs/6muy7bxa</a><br/>\n                Run data is saved locally in <code>/Users/theyorubayesian/Desktop/Work/Udacity/manhattan/components/notebooks/wandb/run-20210604_224234-6muy7bxa</code><br/><br/>\n            "
     },
     "metadata": {}
    },
    {
     "output_type": "execute_result",
     "data": {
      "text/html": "<h1>Run(6muy7bxa)</h1><iframe src=\"https://wandb.ai/theyorubayesian/nyc_airbnb/runs/6muy7bxa\" style=\"border:none;width:100%;height:400px\"></iframe>",
      "text/plain": [
       "<wandb.sdk.wandb_run.Run at 0x137579df0>"
      ]
     },
     "metadata": {},
     "execution_count": 2
    }
   ],
   "source": [
    "wandb.init(project=\"nyc_airbnb\", group=\"eda\", save_code=True)"
   ]
  },
  {
   "cell_type": "markdown",
   "source": [
    "# Exploratory Data Analysis"
   ],
   "metadata": {
    "collapsed": false,
    "pycharm": {
     "name": "#%% md\n"
    }
   }
  },
  {
   "cell_type": "code",
   "execution_count": 3,
   "metadata": {},
   "outputs": [],
   "source": [
    "local_path = wandb.use_artifact(\"sample.csv:latest\").file()\n",
    "df = pd.read_csv(local_path)"
   ]
  },
  {
   "cell_type": "code",
   "execution_count": 4,
   "metadata": {},
   "outputs": [
    {
     "output_type": "stream",
     "name": "stdout",
     "text": [
      "<class 'pandas.core.frame.DataFrame'>\nRangeIndex: 20000 entries, 0 to 19999\nData columns (total 16 columns):\n #   Column                          Non-Null Count  Dtype  \n---  ------                          --------------  -----  \n 0   id                              20000 non-null  int64  \n 1   name                            19993 non-null  object \n 2   host_id                         20000 non-null  int64  \n 3   host_name                       19992 non-null  object \n 4   neighbourhood_group             20000 non-null  object \n 5   neighbourhood                   20000 non-null  object \n 6   latitude                        20000 non-null  float64\n 7   longitude                       20000 non-null  float64\n 8   room_type                       20000 non-null  object \n 9   price                           20000 non-null  int64  \n 10  minimum_nights                  20000 non-null  int64  \n 11  number_of_reviews               20000 non-null  int64  \n 12  last_review                     15877 non-null  object \n 13  reviews_per_month               15877 non-null  float64\n 14  calculated_host_listings_count  20000 non-null  int64  \n 15  availability_365                20000 non-null  int64  \ndtypes: float64(3), int64(7), object(6)\nmemory usage: 2.4+ MB\nNone\n"
     ]
    }
   ],
   "source": [
    "print(df.info())"
   ]
  },
  {
   "cell_type": "code",
   "execution_count": 5,
   "metadata": {},
   "outputs": [
    {
     "output_type": "execute_result",
     "data": {
      "text/plain": [
       "count    20000.000000\n",
       "mean       153.269050\n",
       "std        243.325609\n",
       "min          0.000000\n",
       "1%          30.000000\n",
       "5%          40.000000\n",
       "50%        105.000000\n",
       "95%        350.000000\n",
       "99%        800.000000\n",
       "max      10000.000000\n",
       "Name: price, dtype: float64"
      ]
     },
     "metadata": {},
     "execution_count": 5
    }
   ],
   "source": [
    "df['price'].describe(percentiles=[0.01, 0.05, 0.50, 0.95, 0.99])"
   ]
  },
  {
   "source": [
    "min_price = 10\n",
    "max_price = 350"
   ],
   "cell_type": "code",
   "metadata": {},
   "execution_count": 7,
   "outputs": []
  },
  {
   "cell_type": "code",
   "execution_count": 8,
   "metadata": {},
   "outputs": [],
   "source": [
    "# Drop outliers\n",
    "idx = df['price'].between(min_price, max_price)\n",
    "df = df[idx]"
   ]
  },
  {
   "cell_type": "code",
   "execution_count": 9,
   "metadata": {},
   "outputs": [
    {
     "output_type": "stream",
     "name": "stderr",
     "text": [
      "<ipython-input-9-7d1ff21508fd>:1: SettingWithCopyWarning: \nA value is trying to be set on a copy of a slice from a DataFrame.\nTry using .loc[row_indexer,col_indexer] = value instead\n\nSee the caveats in the documentation: https://pandas.pydata.org/pandas-docs/stable/user_guide/indexing.html#returning-a-view-versus-a-copy\n  df['last_review'] = pd.to_datetime(df['last_review'])\n/opt/homebrew/Caskroom/miniforge/base/envs/manhattan/lib/python3.8/site-packages/pandas/core/series.py:4463: SettingWithCopyWarning: \nA value is trying to be set on a copy of a slice from a DataFrame\n\nSee the caveats in the documentation: https://pandas.pydata.org/pandas-docs/stable/user_guide/indexing.html#returning-a-view-versus-a-copy\n  return super().fillna(\n"
     ]
    }
   ],
   "source": [
    "# Convert last_review to datetime\n",
    "df['last_review'] = pd.to_datetime(df['last_review'])\n",
    "\n",
    "# Fill the null dates with an old date\n",
    "df['last_review'].fillna(pd.to_datetime(\"2010-01-01\"), inplace=True)"
   ]
  },
  {
   "cell_type": "code",
   "execution_count": 10,
   "metadata": {},
   "outputs": [
    {
     "output_type": "stream",
     "name": "stderr",
     "text": [
      "/opt/homebrew/Caskroom/miniforge/base/envs/manhattan/lib/python3.8/site-packages/pandas/core/series.py:4463: SettingWithCopyWarning: \nA value is trying to be set on a copy of a slice from a DataFrame\n\nSee the caveats in the documentation: https://pandas.pydata.org/pandas-docs/stable/user_guide/indexing.html#returning-a-view-versus-a-copy\n  return super().fillna(\n"
     ]
    }
   ],
   "source": [
    "# If the reviews_per_month is nan it means that there is no review\n",
    "df['reviews_per_month'].fillna(0, inplace=True)"
   ]
  },
  {
   "cell_type": "code",
   "execution_count": 12,
   "metadata": {},
   "outputs": [
    {
     "output_type": "stream",
     "name": "stderr",
     "text": [
      "/opt/homebrew/Caskroom/miniforge/base/envs/manhattan/lib/python3.8/site-packages/pandas/core/series.py:4463: SettingWithCopyWarning: \nA value is trying to be set on a copy of a slice from a DataFrame\n\nSee the caveats in the documentation: https://pandas.pydata.org/pandas-docs/stable/user_guide/indexing.html#returning-a-view-versus-a-copy\n  return super().fillna(\n"
     ]
    }
   ],
   "source": [
    "# Fill the names with a short string.\n",
    "df['name'].fillna('-', inplace=True)\n",
    "df['host_name'].fillna('-', inplace=True)"
   ]
  },
  {
   "cell_type": "code",
   "execution_count": 13,
   "metadata": {},
   "outputs": [
    {
     "output_type": "stream",
     "name": "stdout",
     "text": [
      "<class 'pandas.core.frame.DataFrame'>\nInt64Index: 19001 entries, 0 to 19999\nData columns (total 16 columns):\n #   Column                          Non-Null Count  Dtype         \n---  ------                          --------------  -----         \n 0   id                              19001 non-null  int64         \n 1   name                            19001 non-null  object        \n 2   host_id                         19001 non-null  int64         \n 3   host_name                       19001 non-null  object        \n 4   neighbourhood_group             19001 non-null  object        \n 5   neighbourhood                   19001 non-null  object        \n 6   latitude                        19001 non-null  float64       \n 7   longitude                       19001 non-null  float64       \n 8   room_type                       19001 non-null  object        \n 9   price                           19001 non-null  int64         \n 10  minimum_nights                  19001 non-null  int64         \n 11  number_of_reviews               19001 non-null  int64         \n 12  last_review                     19001 non-null  datetime64[ns]\n 13  reviews_per_month               19001 non-null  float64       \n 14  calculated_host_listings_count  19001 non-null  int64         \n 15  availability_365                19001 non-null  int64         \ndtypes: datetime64[ns](1), float64(3), int64(7), object(5)\nmemory usage: 3.0+ MB\nNone\n"
     ]
    }
   ],
   "source": [
    "print(df.info())"
   ]
  },
  {
   "cell_type": "code",
   "execution_count": null,
   "metadata": {},
   "outputs": [],
   "source": []
  }
 ]
}